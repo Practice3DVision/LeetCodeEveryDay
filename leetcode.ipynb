{
 "cells": [
  {
   "cell_type": "markdown",
   "id": "6897e215-6322-4f42-ab4c-cf8bea7ba388",
   "metadata": {},
   "source": [
    "## 2385. 感染二叉树需要的总时间\n",
    "- 深度优先搜索将二叉树转换为无序图（用于确定一个节点邻近节点的关系）\n",
    "- 广度优先搜索计算最长距离"
   ]
  },
  {
   "cell_type": "code",
   "execution_count": null,
   "id": "270050ed-e689-4f11-9458-8efc56417531",
   "metadata": {},
   "outputs": [],
   "source": [
    "std::unordered_map<int, std::vector<int>> table;\n",
    "  std::function<void(TreeNode*)> dfs = [&](TreeNode* parent) {\n",
    "      for (auto& child : std::vector<TreeNode*>{parent->left, parent->right})}{\n",
    "  \n",
    "          if(child == nullptr)\n",
    "              continue;\n",
    "                \n",
    "          table[parent->val].push_back(child->val);\n",
    "          table[child->val].push_back(parent->val);\n",
    "\n",
    "          dfs(child);\n",
    "      }\n",
    "  };\n",
    "\n",
    "  dfs(root);"
   ]
  },
  {
   "cell_type": "code",
   "execution_count": null,
   "id": "b5623bb7-b60e-4ad9-9035-cd1b6d6451a3",
   "metadata": {},
   "outputs": [],
   "source": []
  }
 ],
 "metadata": {
  "kernelspec": {
   "display_name": "Python 3 (ipykernel)",
   "language": "python",
   "name": "python3"
  },
  "language_info": {
   "codemirror_mode": {
    "name": "ipython",
    "version": 3
   },
   "file_extension": ".py",
   "mimetype": "text/x-python",
   "name": "python",
   "nbconvert_exporter": "python",
   "pygments_lexer": "ipython3",
   "version": "3.11.5"
  }
 },
 "nbformat": 4,
 "nbformat_minor": 5
}
