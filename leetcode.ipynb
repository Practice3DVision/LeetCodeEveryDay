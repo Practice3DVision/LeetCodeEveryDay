{
 "cells": [
  {
   "attachments": {},
   "cell_type": "markdown",
   "id": "6897e215-6322-4f42-ab4c-cf8bea7ba388",
   "metadata": {},
   "source": [
    "## Day 1. 感染二叉树需要的总时间\n",
    "- 深度优先搜索将二叉树转换为无序图（用于确定一个节点邻近节点的关系）\n",
    "- 广度优先搜索计算最长距离"
   ]
  },
  {
   "cell_type": "code",
   "execution_count": null,
   "id": "270050ed-e689-4f11-9458-8efc56417531",
   "metadata": {},
   "outputs": [],
   "source": [
    "std::unordered_map<int, std::vector<int>> table;\n",
    "  std::function<void(TreeNode*)> dfs = [&](TreeNode* parent) {\n",
    "      for (auto& child : std::vector<TreeNode*>{parent->left, parent->right})}{\n",
    "  \n",
    "          if(child == nullptr)\n",
    "              continue;\n",
    "                \n",
    "          table[parent->val].push_back(child->val);\n",
    "          table[child->val].push_back(parent->val);\n",
    "\n",
    "          dfs(child);\n",
    "      }\n",
    "  };\n",
    "\n",
    "  dfs(root);"
   ]
  },
  {
   "attachments": {},
   "cell_type": "markdown",
   "id": "b71d0ab3",
   "metadata": {},
   "source": [
    "## Day 2. 总行驶距离"
   ]
  },
  {
   "attachments": {},
   "cell_type": "markdown",
   "id": "63873dc3-4a67-49f6-b95e-6e9b3febe00e",
   "metadata": {},
   "source": [
    "## Day 3. 快照数组\n"
   ]
  },
  {
   "cell_type": "code",
   "execution_count": null,
   "id": "f138d59b-f366-44a0-9bd3-5a5665a8b68d",
   "metadata": {},
   "outputs": [],
   "source": [
    "auto x = std::upper_bound(snaps_[index].begin(), snaps_[index].end(), std::make_pair(snap_id + 1, -1));\n",
    "return x == snaps_[index].begin() ? 0 : std::prev(x)->second;"
   ]
  },
  {
   "attachments": {},
   "cell_type": "markdown",
   "id": "9a88fb5d-5f18-4bb0-9ef8-d92bb1543f2b",
   "metadata": {},
   "source": [
    "## Day 4. 查询网格图中每一列的宽度"
   ]
  },
  {
   "attachments": {},
   "cell_type": "markdown",
   "id": "9437febd-05bc-4aba-a3f9-b487ea95e938",
   "metadata": {},
   "source": [
    "## Day 5. 负二进制转换"
   ]
  },
  {
   "cell_type": "markdown",
   "id": "3279a3c1-7c85-4ae4-94e6-a3bd8f91680f",
   "metadata": {},
   "source": [
    "## Day 6. 将矩阵按对角线排序"
   ]
  },
  {
   "cell_type": "markdown",
   "id": "bc3130e3-00de-4fbd-a3a5-b1c59fad5ecf",
   "metadata": {},
   "source": [
    "## Day 7. 满足目标工作时长的员工数目"
   ]
  },
  {
   "cell_type": "code",
   "execution_count": null,
   "id": "f78de588-8947-459f-8529-c9ba80ab9632",
   "metadata": {},
   "outputs": [],
   "source": []
  }
 ],
 "metadata": {
  "kernelspec": {
   "display_name": "Python 3 (ipykernel)",
   "language": "python",
   "name": "python3"
  },
  "language_info": {
   "codemirror_mode": {
    "name": "ipython",
    "version": 3
   },
   "file_extension": ".py",
   "mimetype": "text/x-python",
   "name": "python",
   "nbconvert_exporter": "python",
   "pygments_lexer": "ipython3",
   "version": "3.11.5"
  }
 },
 "nbformat": 4,
 "nbformat_minor": 5
}
