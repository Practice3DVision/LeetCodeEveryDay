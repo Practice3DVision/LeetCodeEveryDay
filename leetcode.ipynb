{
 "cells": [
  {
   "attachments": {},
   "cell_type": "markdown",
   "id": "6897e215-6322-4f42-ab4c-cf8bea7ba388",
   "metadata": {},
   "source": [
    "## Day 1. 感染二叉树需要的总时间\n",
    "- 深度优先搜索将二叉树转换为无序图（用于确定一个节点邻近节点的关系）\n",
    "- 广度优先搜索计算最长距离"
   ]
  },
  {
   "cell_type": "code",
   "execution_count": null,
   "id": "270050ed-e689-4f11-9458-8efc56417531",
   "metadata": {},
   "outputs": [],
   "source": [
    "std::unordered_map<int, std::vector<int>> table;\n",
    "  std::function<void(TreeNode*)> dfs = [&](TreeNode* parent) {\n",
    "      for (auto& child : std::vector<TreeNode*>{parent->left, parent->right})}{\n",
    "  \n",
    "          if(child == nullptr)\n",
    "              continue;\n",
    "                \n",
    "          table[parent->val].push_back(child->val);\n",
    "          table[child->val].push_back(parent->val);\n",
    "\n",
    "          dfs(child);\n",
    "      }\n",
    "  };\n",
    "\n",
    "  dfs(root);"
   ]
  },
  {
   "attachments": {},
   "cell_type": "markdown",
   "id": "b71d0ab3",
   "metadata": {},
   "source": [
    "## Day 2. 总行驶距离"
   ]
  },
  {
   "attachments": {},
   "cell_type": "markdown",
   "id": "63873dc3-4a67-49f6-b95e-6e9b3febe00e",
   "metadata": {},
   "source": [
    "## Day 3. 快照数组\n"
   ]
  },
  {
   "cell_type": "code",
   "execution_count": null,
   "id": "f138d59b-f366-44a0-9bd3-5a5665a8b68d",
   "metadata": {},
   "outputs": [],
   "source": [
    "auto x = std::upper_bound(snaps_[index].begin(), snaps_[index].end(), std::make_pair(snap_id + 1, -1));\n",
    "return x == snaps_[index].begin() ? 0 : std::prev(x)->second;"
   ]
  },
  {
   "attachments": {},
   "cell_type": "markdown",
   "id": "9a88fb5d-5f18-4bb0-9ef8-d92bb1543f2b",
   "metadata": {},
   "source": [
    "## Day 4. 查询网格图中每一列的宽度"
   ]
  },
  {
   "attachments": {},
   "cell_type": "markdown",
   "id": "9437febd-05bc-4aba-a3f9-b487ea95e938",
   "metadata": {},
   "source": [
    "## Day 5. 负二进制转换"
   ]
  },
  {
   "cell_type": "markdown",
   "id": "3279a3c1-7c85-4ae4-94e6-a3bd8f91680f",
   "metadata": {},
   "source": [
    "## Day 6. 将矩阵按对角线排序"
   ]
  },
  {
   "cell_type": "markdown",
   "id": "bc3130e3-00de-4fbd-a3a5-b1c59fad5ecf",
   "metadata": {},
   "source": [
    "## Day 7. 满足目标工作时长的员工数目"
   ]
  },
  {
   "cell_type": "markdown",
   "id": "1be9606c-da55-412a-bd8c-9fccdec4f708",
   "metadata": {},
   "source": [
    "## Day 8. 雇佣 K 位工人的总代价"
   ]
  },
  {
   "cell_type": "markdown",
   "id": "c038d29b-23eb-4f3b-9935-db26b5b1bd7b",
   "metadata": {},
   "source": [
    "## Day 9. 雇佣 K 名工人的最低成本"
   ]
  },
  {
   "cell_type": "markdown",
   "id": "9996e2a1-f362-451a-9a87-6f491e2f6e95",
   "metadata": {},
   "source": [
    "## Day 10. 去掉最低工资和最高工资后的工资平均值"
   ]
  },
  {
   "cell_type": "code",
   "execution_count": null,
   "id": "1eedcdcb-463d-4895-9912-db846de8aabd",
   "metadata": {},
   "outputs": [],
   "source": [
    "  template<class Input, class T, class BinaryOp>\n",
    "  T accumulate(Input first, Input last, T init, BinaryOp op);"
   ]
  },
  {
   "cell_type": "markdown",
   "id": "7e4508f0-383d-4221-83ca-4d180d23dfe5",
   "metadata": {},
   "source": [
    "## Day 11. 规划兼职工作\n",
    "动态规划+二分查找(`std::upper_bound`)"
   ]
  },
  {
   "cell_type": "markdown",
   "id": "03665e49-9faa-4829-83f3-3fd09a90ba1e",
   "metadata": {},
   "source": [
    "## Day 12. 拆炸弹"
   ]
  },
  {
   "cell_type": "markdown",
   "id": "6ce8a947-3906-4861-a9e1-d621280101fc",
   "metadata": {},
   "source": [
    "## Day 13. 摘樱桃"
   ]
  },
  {
   "cell_type": "markdown",
   "id": "323c93b9-7401-4cf2-ae92-ea61075fb5f2",
   "metadata": {},
   "source": [
    "## Day 14. 二分查找"
   ]
  },
  {
   "cell_type": "markdown",
   "id": "7f548b5c-00f9-4d8e-a15d-864e61a5d612",
   "metadata": {},
   "source": [
    "## Day 15. 移除元素"
   ]
  },
  {
   "cell_type": "code",
   "execution_count": null,
   "id": "54d909c8-9d37-4610-9928-82a6df6600da",
   "metadata": {},
   "outputs": [],
   "source": []
  }
 ],
 "metadata": {
  "kernelspec": {
   "display_name": "Python 3 (ipykernel)",
   "language": "python",
   "name": "python3"
  },
  "language_info": {
   "codemirror_mode": {
    "name": "ipython",
    "version": 3
   },
   "file_extension": ".py",
   "mimetype": "text/x-python",
   "name": "python",
   "nbconvert_exporter": "python",
   "pygments_lexer": "ipython3",
   "version": "3.11.5"
  }
 },
 "nbformat": 4,
 "nbformat_minor": 5
}
